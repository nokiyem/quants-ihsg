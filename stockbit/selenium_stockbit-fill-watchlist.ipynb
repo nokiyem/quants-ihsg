{
 "cells": [
  {
   "cell_type": "markdown",
   "metadata": {},
   "source": [
    "https://selenium-python.readthedocs.io/getting-started.html#simple-usage\n",
    "\n",
    "driver = webdriver.Firefox()\n",
    "Message: 'geckodriver' executable needs to be in PATH. \n"
   ]
  },
  {
   "cell_type": "code",
   "execution_count": 1,
   "metadata": {},
   "outputs": [],
   "source": [
    "import time\n",
    "import pytest\n",
    "import time\n",
    "import json\n",
    "from selenium import webdriver\n",
    "from selenium.webdriver.common.by import By\n",
    "from selenium.webdriver.common.action_chains import ActionChains\n",
    "from selenium.webdriver.support import expected_conditions\n",
    "from selenium.webdriver.support.wait import WebDriverWait\n",
    "from selenium.webdriver.common.keys import Keys\n",
    "from selenium.webdriver.common.desired_capabilities import DesiredCapabilities\n"
   ]
  },
  {
   "cell_type": "code",
   "execution_count": 2,
   "metadata": {},
   "outputs": [
    {
     "data": {
      "text/html": [
       "<div>\n",
       "<style scoped>\n",
       "    .dataframe tbody tr th:only-of-type {\n",
       "        vertical-align: middle;\n",
       "    }\n",
       "\n",
       "    .dataframe tbody tr th {\n",
       "        vertical-align: top;\n",
       "    }\n",
       "\n",
       "    .dataframe thead th {\n",
       "        text-align: right;\n",
       "    }\n",
       "</style>\n",
       "<table border=\"1\" class=\"dataframe\">\n",
       "  <thead>\n",
       "    <tr style=\"text-align: right;\">\n",
       "      <th></th>\n",
       "      <th>Saham</th>\n",
       "    </tr>\n",
       "  </thead>\n",
       "  <tbody>\n",
       "    <tr>\n",
       "      <th>0</th>\n",
       "      <td>WEGE</td>\n",
       "    </tr>\n",
       "    <tr>\n",
       "      <th>1</th>\n",
       "      <td>WIKA</td>\n",
       "    </tr>\n",
       "    <tr>\n",
       "      <th>2</th>\n",
       "      <td>WOOD</td>\n",
       "    </tr>\n",
       "    <tr>\n",
       "      <th>3</th>\n",
       "      <td>WSBP</td>\n",
       "    </tr>\n",
       "    <tr>\n",
       "      <th>4</th>\n",
       "      <td>WSKT</td>\n",
       "    </tr>\n",
       "  </tbody>\n",
       "</table>\n",
       "</div>"
      ],
      "text/plain": [
       "  Saham\n",
       "0  WEGE\n",
       "1  WIKA\n",
       "2  WOOD\n",
       "3  WSBP\n",
       "4  WSKT"
      ]
     },
     "execution_count": 2,
     "metadata": {},
     "output_type": "execute_result"
    }
   ],
   "source": [
    "from selenium.webdriver.firefox.options import Options as FirefoxOptions\n",
    "import pandas as pd\n",
    "\n",
    "df_id = pd.read_csv('saham/kompas100+++.tls')\n",
    "df_id.head()"
   ]
  },
  {
   "cell_type": "code",
   "execution_count": 5,
   "metadata": {},
   "outputs": [],
   "source": [
    "driver = webdriver.Chrome(\"D:\\Downloads\\chromedriver.exe\")\n",
    "\n",
    "vars = {}\n",
    "\n",
    "driver.get(\"https://stockbit.com/\")\n",
    "time.sleep(4)\n",
    "driver.find_element(By.CSS_SELECTOR, \".desktop .login-ldn\").click()\n",
    "time.sleep(4)\n",
    "driver.find_element(By.ID, \"username\").send_keys(\"username\")\n",
    "driver.find_element(By.ID, \"password\").send_keys(\"password\")\n",
    "driver.find_element(By.ID, \"loginbutton\").click()\n",
    "time.sleep(5)\n",
    "driver.find_element(By.CSS_SELECTOR, \"#watchlistLink > i\").click()\n",
    "time.sleep(2)\n",
    "driver.find_element(By.CSS_SELECTOR, \".wlbutton > .icon-toolbar_down\").click()\n",
    "time.sleep(2)\n",
    "driver.find_element(By.CSS_SELECTOR, \"div:nth-child(4) > span\").click()\n",
    "time.sleep(2)\n",
    "    \n",
    "df_all = pd.DataFrame() \n",
    "\n",
    "for index, row in df_id.iterrows(): #loop sheets\n",
    "    #print (row[\"Rekap\"], row[\"ID_Sheet_rekap\"]) \n",
    "    kode = row[\"Saham\"]\n",
    "    driver.find_element(By.CSS_SELECTOR, \".general-content-head .wladdsymbol\").click()\n",
    "    time.sleep(2)\n",
    "    driver.find_element(By.CSS_SELECTOR, \".general-content-head .wladdsymbol\").send_keys(kode)\n",
    "    time.sleep(2)\n",
    "    driver.find_element(By.CSS_SELECTOR, \".general-content-head .wladdsymbol\").send_keys(Keys.ENTER)\n",
    "    time.sleep(2)\n",
    "    driver.find_element(By.CSS_SELECTOR, \".general-content-head .wladdsymbol\").click()\n",
    "    time.sleep(2)\n",
    "    driver.find_element(By.CSS_SELECTOR, \".general-content-head .wladdsymbol\").send_keys(Keys.BACKSPACE)\n",
    "    driver.find_element(By.CSS_SELECTOR, \".general-content-head .wladdsymbol\").send_keys(Keys.BACKSPACE)\n",
    "    driver.find_element(By.CSS_SELECTOR, \".general-content-head .wladdsymbol\").send_keys(Keys.BACKSPACE)\n",
    "    driver.find_element(By.CSS_SELECTOR, \".general-content-head .wladdsymbol\").send_keys(Keys.BACKSPACE)\n",
    "    time.sleep(2)\n",
    "driver.find_element(By.CSS_SELECTOR, \".ant-dropdown-link .popavatar\").click()\n",
    "time.sleep(1)\n",
    "driver.find_element(By.LINK_TEXT, \"Logout\").click()\n",
    "\n",
    "driver.close()\n",
    "\n",
    "driver.quit()"
   ]
  },
  {
   "cell_type": "code",
   "execution_count": null,
   "metadata": {},
   "outputs": [],
   "source": [
    "nama_file=\"all_saham_scrape_quarterly.csv\"\n",
    "df_all.to_csv(nama_file) "
   ]
  },
  {
   "cell_type": "code",
   "execution_count": null,
   "metadata": {},
   "outputs": [],
   "source": []
  }
 ],
 "metadata": {
  "kernelspec": {
   "display_name": "Python 3",
   "language": "python",
   "name": "python3"
  },
  "language_info": {
   "codemirror_mode": {
    "name": "ipython",
    "version": 3
   },
   "file_extension": ".py",
   "mimetype": "text/x-python",
   "name": "python",
   "nbconvert_exporter": "python",
   "pygments_lexer": "ipython3",
   "version": "3.8.3"
  }
 },
 "nbformat": 4,
 "nbformat_minor": 4
}
